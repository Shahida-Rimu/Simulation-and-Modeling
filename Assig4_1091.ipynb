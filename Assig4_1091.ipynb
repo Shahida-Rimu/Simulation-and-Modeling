{
  "nbformat": 4,
  "nbformat_minor": 0,
  "metadata": {
    "colab": {
      "provenance": [],
      "authorship_tag": "ABX9TyOwLFVWwF1ARhy3fMXsraB/",
      "include_colab_link": true
    },
    "kernelspec": {
      "name": "python3",
      "display_name": "Python 3"
    },
    "language_info": {
      "name": "python"
    }
  },
  "cells": [
    {
      "cell_type": "markdown",
      "metadata": {
        "id": "view-in-github",
        "colab_type": "text"
      },
      "source": [
        "<a href=\"https://colab.research.google.com/github/Shahida-Rimu/Simulation-and-Modeling/blob/main/Assig4_1091.ipynb\" target=\"_parent\"><img src=\"https://colab.research.google.com/assets/colab-badge.svg\" alt=\"Open In Colab\"/></a>"
      ]
    },
    {
      "cell_type": "code",
      "execution_count": 4,
      "metadata": {
        "colab": {
          "base_uri": "https://localhost:8080/"
        },
        "id": "DHmU3aJxpdUy",
        "outputId": "5b3627e1-8f9d-4962-bacd-a4baa596505d"
      },
      "outputs": [
        {
          "output_type": "stream",
          "name": "stdout",
          "text": [
            "Points     | Estimated π  | Error      | Points Inside  \n",
            "------------------------------------------------------------\n",
            "3200       | 0.037948     | 3.103644   | 2514           \n",
            "6400       | 0.038062     | 3.103531   | 5043           \n",
            "9600       | 0.038019     | 3.103574   | 7556           \n",
            "12800      | 0.037624     | 3.103969   | 9970           \n",
            "16000      | 0.037731     | 3.103862   | 12498          \n"
          ]
        }
      ],
      "source": [
        "import random\n",
        "import numpy as np\n",
        "import math\n",
        "\n",
        "def estimate_pi(R, total_points):\n",
        "    r = R / 10\n",
        "    inside = 0\n",
        "\n",
        "    # Half using random.uniform\n",
        "    for _ in range(total_points // 2):\n",
        "        x = random.uniform(0, r)\n",
        "        y = random.uniform(0, r)\n",
        "        if x*x + y*y <= r*r:\n",
        "            inside += 1\n",
        "\n",
        "    # Half using numpy.random.rand scaled to [0, r]\n",
        "    for _ in range(total_points // 2):\n",
        "        x = np.random.rand() * r\n",
        "        y = np.random.rand() * r\n",
        "        if x*x + y*y <= r*r:\n",
        "            inside += 1\n",
        "\n",
        "    # Estimate pi and adjust for radius\n",
        "    estimated_pi = 4 * inside / total_points\n",
        "    adjusted_pi = estimated_pi / (r * r)\n",
        "    error = abs(math.pi - adjusted_pi)\n",
        "\n",
        "    return adjusted_pi, error, inside\n",
        "\n",
        "\n",
        "R = 91                      # From student ID\n",
        "base_points = 200 * 16      # 16 letters in your full name → 3200\n",
        "multiples = [1, 2, 3, 4, 5]\n",
        "\n",
        "\n",
        "print(f\"{'Points':<10} | {'Estimated π':<12} | {'Error':<10} | {'Points Inside':<15}\")\n",
        "print(\"-\" * 60)\n",
        "\n",
        "for m in multiples:\n",
        "    total_pts = base_points * m\n",
        "    pi_val, error, inside = estimate_pi(R, total_pts)\n",
        "    print(f\"{total_pts:<10} | {pi_val:<12.6f} | {error:<10.6f} | {inside:<15}\")\n"
      ]
    }
  ]
}