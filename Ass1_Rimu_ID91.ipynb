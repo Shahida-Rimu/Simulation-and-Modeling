{
  "cells": [
    {
      "cell_type": "markdown",
      "metadata": {
        "id": "view-in-github",
        "colab_type": "text"
      },
      "source": [
        "<a href=\"https://colab.research.google.com/github/Shahida-Rimu/Simulation-and-Modeling/blob/main/Ass1_Rimu_ID91.ipynb\" target=\"_parent\"><img src=\"https://colab.research.google.com/assets/colab-badge.svg\" alt=\"Open In Colab\"/></a>"
      ]
    },
    {
      "cell_type": "markdown",
      "id": "f8869b54",
      "metadata": {
        "id": "f8869b54"
      },
      "source": [
        "# One-Sample t-Test with Python\n",
        "### Student ID: 91\n",
        "\n",
        "This notebook performs a **One-Sample t-Test** to test whether the sample mean of a dataset is significantly different from a hypothesized population mean.\n",
        "\n",
        "---\n"
      ]
    },
    {
      "cell_type": "code",
      "execution_count": 1,
      "id": "1595c2c0",
      "metadata": {
        "colab": {
          "base_uri": "https://localhost:8080/"
        },
        "id": "1595c2c0",
        "outputId": "b4375ce1-93b1-49f9-d85e-cf349bf1bb70"
      },
      "outputs": [
        {
          "output_type": "stream",
          "name": "stdout",
          "text": [
            "Exam Scores: [67 64 73 75 71 68 73 65 67 70 63 67]\n"
          ]
        }
      ],
      "source": [
        "import numpy as np\n",
        "import matplotlib.pyplot as plt\n",
        "from scipy import stats\n",
        "\n",
        "# Step 1: Generate the dataset\n",
        "np.random.seed(42)  # for reproducibility\n",
        "k = 91\n",
        "exam_scores = 60 + np.random.randint(0, 15, size=12) + (k % 5)\n",
        "print(\"Exam Scores:\", exam_scores)"
      ]
    },
    {
      "cell_type": "markdown",
      "id": "b4e7999b",
      "metadata": {
        "id": "b4e7999b"
      },
      "source": [
        "### Step 2: Hypotheses\n",
        "- **H0:** The population mean is equal to 65.  \n",
        "- **H1:** The population mean is different from 65."
      ]
    },
    {
      "cell_type": "code",
      "execution_count": 2,
      "id": "d1c82b11",
      "metadata": {
        "colab": {
          "base_uri": "https://localhost:8080/"
        },
        "id": "d1c82b11",
        "outputId": "acb53d6a-84eb-4ee9-f9d6-b2656e1c813c"
      },
      "outputs": [
        {
          "output_type": "stream",
          "name": "stdout",
          "text": [
            "\n",
            "--- One-Sample t-Test Results ---\n",
            "Sample Mean     = 68.58\n",
            "Hypothesized μ  = 65\n",
            "t-statistic     = 3.2454\n",
            "Degrees of freedom = 11\n",
            "p-value         = 0.0078\n"
          ]
        }
      ],
      "source": [
        "# Step 3: Perform One-Sample t-Test\n",
        "mu0 = 65  # hypothesized mean\n",
        "\n",
        "t_stat, p_value = stats.ttest_1samp(exam_scores, mu0)\n",
        "sample_mean = np.mean(exam_scores)\n",
        "df = len(exam_scores) - 1\n",
        "\n",
        "print(\"\\n--- One-Sample t-Test Results ---\")\n",
        "print(f\"Sample Mean     = {sample_mean:.2f}\")\n",
        "print(f\"Hypothesized μ  = {mu0}\")\n",
        "print(f\"t-statistic     = {t_stat:.4f}\")\n",
        "print(f\"Degrees of freedom = {df}\")\n",
        "print(f\"p-value         = {p_value:.4f}\")"
      ]
    },
    {
      "cell_type": "code",
      "execution_count": 3,
      "id": "cfbff65a",
      "metadata": {
        "colab": {
          "base_uri": "https://localhost:8080/"
        },
        "id": "cfbff65a",
        "outputId": "298cc706-8a4d-4056-9893-fec7d7af5d14"
      },
      "outputs": [
        {
          "output_type": "stream",
          "name": "stdout",
          "text": [
            "95% Confidence Interval for mean = (np.float64(66.1531968659404), np.float64(71.01346980072626))\n"
          ]
        }
      ],
      "source": [
        "# Step 4: 95% Confidence Interval for the sample mean\n",
        "conf_int = stats.t.interval(\n",
        "    0.95, df=df, loc=sample_mean, scale=stats.sem(exam_scores)\n",
        ")\n",
        "print(f\"95% Confidence Interval for mean = {conf_int}\")"
      ]
    },
    {
      "cell_type": "code",
      "execution_count": 4,
      "id": "d40559a0",
      "metadata": {
        "colab": {
          "base_uri": "https://localhost:8080/"
        },
        "id": "d40559a0",
        "outputId": "87af6da5-ff30-4e41-b5eb-5b09f7251082"
      },
      "outputs": [
        {
          "output_type": "stream",
          "name": "stdout",
          "text": [
            "Decision: Reject H0 (Sample mean is significantly different from 65)\n"
          ]
        }
      ],
      "source": [
        "# Step 5: Decision Rule\n",
        "alpha = 0.05\n",
        "if p_value < alpha:\n",
        "    decision = \"Reject H0 (Sample mean is significantly different from 65)\"\n",
        "else:\n",
        "    decision = \"Fail to Reject H0 (No significant difference from 65)\"\n",
        "print(\"Decision:\", decision)"
      ]
    },
    {
      "cell_type": "code",
      "execution_count": 5,
      "id": "54db4741",
      "metadata": {
        "colab": {
          "base_uri": "https://localhost:8080/",
          "height": 444
        },
        "id": "54db4741",
        "outputId": "ac426f38-956f-462a-d32d-505165c94c80"
      },
      "outputs": [
        {
          "output_type": "display_data",
          "data": {
            "text/plain": [
              "<Figure size 800x500 with 1 Axes>"
            ],
            "image/png": "[encoded data removed]"
          },
          "metadata": {}
        }
      ],
      "source": [
        "# Step 6: Visualization\n",
        "plt.figure(figsize=(8,5))\n",
        "\n",
        "# Plot sample mean with error bar (±1 standard error)\n",
        "plt.errorbar(1, sample_mean, yerr=stats.sem(exam_scores), fmt='o', capsize=5, label=\"Sample Mean ± SE\")\n",
        "\n",
        "# Add hypothesized mean line\n",
        "plt.axhline(y=mu0, color='r', linestyle='--', label=\"Hypothesized Mean (65)\")\n",
        "\n",
        "# Formatting the plot\n",
        "plt.xlim(0, 2)\n",
        "plt.xticks([])\n",
        "plt.ylabel(\"Exam Scores\")\n",
        "plt.title(\"One-Sample t-Test: Sample Mean vs Hypothesized Mean\")\n",
        "plt.legend()\n",
        "plt.show()"
      ]
    },
    {
      "cell_type": "markdown",
      "id": "c0e33b82",
      "metadata": {
        "id": "c0e33b82"
      },
      "source": [
        "### Conclusion\n",
        "Based on the statistical test, we made a decision whether to **reject** or **fail to reject H0** at significance level α = 0.05.  \n",
        "The visualization shows the sample mean (with standard error bars) compared to the hypothesized mean (65)."
      ]
    }
  ],
  "metadata": {
    "colab": {
      "provenance": [],
      "include_colab_link": true
    },
    "language_info": {
      "name": "python"
    },
    "kernelspec": {
      "name": "python3",
      "display_name": "Python 3"
    }
  },
  "nbformat": 4,
  "nbformat_minor": 5
}